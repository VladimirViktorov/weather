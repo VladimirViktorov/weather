{
 "cells": [
  {
   "cell_type": "code",
   "execution_count": 3,
   "metadata": {},
   "outputs": [],
   "source": [
    "import requests\n",
    "import json"
   ]
  },
  {
   "cell_type": "code",
   "execution_count": 21,
   "metadata": {
    "scrolled": true
   },
   "outputs": [
    {
     "name": "stdout",
     "output_type": "stream",
     "text": [
      "city: ['Saint Petersburg (RU)', 'Saint Petersburg (RU)']\n",
      "city_id= 498817\n"
     ]
    }
   ],
   "source": [
    "s_city = \"Saint Petersburg, RU\"\n",
    "city_id = 0\n",
    "appid = \"3eff201308d5816c9906cc79aa6c1755\"\n",
    "try:\n",
    "    res = requests.get(\"http://api.openweathermap.org/data/2.5/find\",\n",
    "                 params={'q': s_city, 'type': 'like', 'units': 'metric', 'APPID': appid})\n",
    "    data = res.json()\n",
    "    cities = [\"{} ({})\".format(d['name'], d['sys']['country'])\n",
    "              for d in data['list']]\n",
    "    print(\"city:\", cities)\n",
    "    city_id = data['list'][0]['id']\n",
    "    print('city_id=', city_id)\n",
    "except Exception as e:\n",
    "    print(\"Exception (find):\", e)\n",
    "    pass\n",
    "\n"
   ]
  },
  {
   "cell_type": "code",
   "execution_count": 22,
   "metadata": {},
   "outputs": [
    {
     "name": "stdout",
     "output_type": "stream",
     "text": [
      "conditions: ясно\n",
      "temp: 3.16\n",
      "temp_min: 1.87\n",
      "temp_max: 4\n"
     ]
    }
   ],
   "source": [
    "try:\n",
    "    res = requests.get(\"http://api.openweathermap.org/data/2.5/weather\",\n",
    "                 params={'id': city_id, 'units': 'metric', 'lang': 'ru', 'APPID': appid})\n",
    "    data = res.json()\n",
    "    print(\"conditions:\", data['weather'][0]['description'])\n",
    "    print(\"temp:\", data['main']['temp'])\n",
    "    print(\"temp_min:\", data['main']['temp_min'])\n",
    "    print(\"temp_max:\", data['main']['temp_max'])\n",
    "except Exception as e:\n",
    "    print(\"Exception (weather):\", e)\n",
    "    pass\n"
   ]
  },
  {
   "cell_type": "code",
   "execution_count": 23,
   "metadata": {},
   "outputs": [
    {
     "name": "stdout",
     "output_type": "stream",
     "text": [
      "2020-11-10 00:00:00  +3 ясно\n",
      "2020-11-10 03:00:00  +2 ясно\n",
      "2020-11-10 06:00:00  +1 ясно\n",
      "2020-11-10 09:00:00  +3 ясно\n",
      "2020-11-10 12:00:00  +3 ясно\n",
      "2020-11-10 15:00:00  +1 ясно\n",
      "2020-11-10 18:00:00  +0 ясно\n",
      "2020-11-10 21:00:00  -0 ясно\n",
      "2020-11-11 00:00:00  +0 небольшая облачность\n",
      "2020-11-11 03:00:00  +1 пасмурно\n",
      "2020-11-11 06:00:00  +1 пасмурно\n",
      "2020-11-11 09:00:00  +3 пасмурно\n",
      "2020-11-11 12:00:00  +3 небольшой дождь\n",
      "2020-11-11 15:00:00  +4 небольшой дождь\n",
      "2020-11-11 18:00:00  +4 небольшой дождь\n",
      "2020-11-11 21:00:00  +4 небольшой дождь\n",
      "2020-11-12 00:00:00  +5 пасмурно\n",
      "2020-11-12 03:00:00  +5 пасмурно\n",
      "2020-11-12 06:00:00  +5 пасмурно\n",
      "2020-11-12 09:00:00  +6 пасмурно\n",
      "2020-11-12 12:00:00  +7 пасмурно\n",
      "2020-11-12 15:00:00  +6 пасмурно\n",
      "2020-11-12 18:00:00  +5 пасмурно\n",
      "2020-11-12 21:00:00  +5 пасмурно\n",
      "2020-11-13 00:00:00  +3 облачно с прояснениями\n",
      "2020-11-13 03:00:00  +2 ясно\n",
      "2020-11-13 06:00:00  +1 ясно\n",
      "2020-11-13 09:00:00  +3 ясно\n",
      "2020-11-13 12:00:00  +3 ясно\n",
      "2020-11-13 15:00:00  +1 ясно\n",
      "2020-11-13 18:00:00  +0 ясно\n",
      "2020-11-13 21:00:00  -0 ясно\n",
      "2020-11-14 00:00:00  -0 ясно\n",
      "2020-11-14 03:00:00  -0 небольшая облачность\n",
      "2020-11-14 06:00:00  +1 облачно с прояснениями\n",
      "2020-11-14 09:00:00  +2 пасмурно\n",
      "2020-11-14 12:00:00  +3 пасмурно\n",
      "2020-11-14 15:00:00  +2 пасмурно\n",
      "2020-11-14 18:00:00  +1 облачно с прояснениями\n",
      "2020-11-14 21:00:00  +1 облачно с прояснениями\n"
     ]
    }
   ],
   "source": [
    "try:\n",
    "    res = requests.get(\"http://api.openweathermap.org/data/2.5/forecast\",\n",
    "                        params={'id': city_id, 'units': 'metric', 'lang': 'ru', 'APPID': appid})\n",
    "    data = res.json()\n",
    "    for i in data['list']:\n",
    "        print( i['dt_txt'], '{0:+3.0f}'.format(i['main']['temp']), i['weather'][0]['description'] )\n",
    "except Exception as e:\n",
    "    print(\"Exception (forecast):\", e)\n",
    "    pass"
   ]
  },
  {
   "cell_type": "code",
   "execution_count": null,
   "metadata": {},
   "outputs": [],
   "source": []
  },
  {
   "cell_type": "code",
   "execution_count": null,
   "metadata": {},
   "outputs": [],
   "source": []
  }
 ],
 "metadata": {
  "kernelspec": {
   "display_name": "Python 3",
   "language": "python",
   "name": "python3"
  },
  "language_info": {
   "codemirror_mode": {
    "name": "ipython",
    "version": 3
   },
   "file_extension": ".py",
   "mimetype": "text/x-python",
   "name": "python",
   "nbconvert_exporter": "python",
   "pygments_lexer": "ipython3",
   "version": "3.8.5"
  }
 },
 "nbformat": 4,
 "nbformat_minor": 4
}
